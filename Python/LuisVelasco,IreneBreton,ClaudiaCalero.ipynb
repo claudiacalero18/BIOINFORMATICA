{
 "cells": [
  {
   "cell_type": "markdown",
   "id": "e87fdfc4",
   "metadata": {},
   "source": [
    "# PRACTICA JUEGO CONDICIONALES BUCLES\n",
    "\n",
    "\n",
    "## JUEGO DE ADIVINANZAS\n",
    "\n",
    "#### Escribe un programa que coja un número entero del 1 al 100, y los jugadores tienen que tratar de adivinar el número.\n",
    "\n",
    "#### Las reglas son las siguientes:\n",
    "\n",
    "1. Si un jugador escoje un número menor que 1 o mayor que 100, el programa dice \"FUERA DE LÍMITES\"\n",
    "2. En el primer turno del jugador, si está en un rango de 10 del número dice \"¡CALIENTE!\". Si está fuera de ese rango dice \"¡FRIO!\"\n",
    "3. En todas las rondas siguientes, si el jugador se acerca más que la vez anterior, dice \"¡MAS CALIENTE!\". Si está más lejos que la anterior vez dice \"¡MAS FRIO!\"\n",
    "4. Cuando el jugador acierte el número, les dirá que han acertado y cuántos intentos les ha llevado\n",
    "\n",
    "\n",
    "\n"
   ]
  },
  {
   "cell_type": "markdown",
   "id": "1ea418c3",
   "metadata": {},
   "source": [
    "##### PISTAS\n",
    "1. Trata obtener un número aleatorio entre el 1 y el 100\n",
    "2. Haz una introducción de tu juego y explica las reglas\n",
    "3. Crea una lista que almacene los intentos. \n",
    "4. Haz un bucle que evalúe un número. Prueba que funcione primero. While podría ir bien\n",
    "5. Modifica ese bucle para que compare nuestro número con el intento. Si se acierta usa break, si no puedes usar continue y tienes que seguir preguntando al jugador por nuevos intentos"
   ]
  },
  {
   "cell_type": "code",
   "execution_count": 1,
   "id": "9d8095d9",
   "metadata": {},
   "outputs": [
    {
     "name": "stdout",
     "output_type": "stream",
     "text": [
      "¡Bienvenido al juego de Adivina el Número!\n",
      "He pensado en un número entre 1 y 100. Tienes que adivinarlo.\n",
      "Reglas:\n",
      "1. Si el número es menor que 1 o mayor que 100, te diré 'FUERA DE LÍMITES'.\n",
      "2. Si estás a 10 números de distancia en el primer intento, te diré '¡CALIENTE!', si no, '¡FRÍO!'.\n",
      "3. En intentos siguientes, si te acercas más que el intento anterior, te diré '¡MÁS CALIENTE!', si no, '¡MÁS FRÍO!'.\n",
      "4. Cuando aciertes, te diré cuántos intentos te ha llevado.\n"
     ]
    }
   ],
   "source": [
    "print(\"¡Bienvenido al juego de Adivina el Número!\")\n",
    "print(\"He pensado en un número entre 1 y 100. Tienes que adivinarlo.\")\n",
    "print(\"Reglas:\")\n",
    "print(\"1. Si el número es menor que 1 o mayor que 100, te diré 'FUERA DE LÍMITES'.\")\n",
    "print(\"2. Si estás a 10 números de distancia en el primer intento, te diré '¡CALIENTE!', si no, '¡FRÍO!'.\")\n",
    "print(\"3. En intentos siguientes, si te acercas más que el intento anterior, te diré '¡MÁS CALIENTE!', si no, '¡MÁS FRÍO!'.\")\n",
    "print(\"4. Cuando aciertes, te diré cuántos intentos te ha llevado.\")"
   ]
  },
  {
   "cell_type": "code",
   "execution_count": 3,
   "id": "ec774882-0a9f-440a-ba6b-7117ea118d28",
   "metadata": {},
   "outputs": [],
   "source": [
    "numero_secreto = 35"
   ]
  },
  {
   "cell_type": "code",
   "execution_count": 5,
   "id": "c535758b-3955-440c-aa7a-db46c51b8519",
   "metadata": {},
   "outputs": [],
   "source": [
    "intentos = []"
   ]
  },
  {
   "cell_type": "code",
   "execution_count": 7,
   "id": "85a6f4a4-d640-4fd6-839c-4784ca59f16a",
   "metadata": {},
   "outputs": [
    {
     "name": "stdin",
     "output_type": "stream",
     "text": [
      "Adivina el número:  23\n"
     ]
    },
    {
     "name": "stdout",
     "output_type": "stream",
     "text": [
      "¡FRÍO!\n"
     ]
    },
    {
     "name": "stdin",
     "output_type": "stream",
     "text": [
      "Adivina el número:  54\n"
     ]
    },
    {
     "name": "stdout",
     "output_type": "stream",
     "text": [
      "¡MÁS FRÍO!\n"
     ]
    },
    {
     "name": "stdin",
     "output_type": "stream",
     "text": [
      "Adivina el número:  56\n"
     ]
    },
    {
     "name": "stdout",
     "output_type": "stream",
     "text": [
      "¡MÁS FRÍO!\n"
     ]
    },
    {
     "name": "stdin",
     "output_type": "stream",
     "text": [
      "Adivina el número:  30\n"
     ]
    },
    {
     "name": "stdout",
     "output_type": "stream",
     "text": [
      "¡MÁS CALIENTE!\n"
     ]
    },
    {
     "name": "stdin",
     "output_type": "stream",
     "text": [
      "Adivina el número:  120\n"
     ]
    },
    {
     "name": "stdout",
     "output_type": "stream",
     "text": [
      "FUERA DE LÍMITES\n"
     ]
    },
    {
     "name": "stdin",
     "output_type": "stream",
     "text": [
      "Adivina el número:  0\n"
     ]
    },
    {
     "name": "stdout",
     "output_type": "stream",
     "text": [
      "FUERA DE LÍMITES\n"
     ]
    },
    {
     "name": "stdin",
     "output_type": "stream",
     "text": [
      "Adivina el número:  4\n"
     ]
    },
    {
     "name": "stdout",
     "output_type": "stream",
     "text": [
      "¡MÁS FRÍO!\n"
     ]
    },
    {
     "name": "stdin",
     "output_type": "stream",
     "text": [
      "Adivina el número:  35\n"
     ]
    },
    {
     "name": "stdout",
     "output_type": "stream",
     "text": [
      "¡Correcto! Adivinaste el número en 6 intentos.\n"
     ]
    }
   ],
   "source": [
    "while True:\n",
    "    try:\n",
    "        # Preguntar al jugador por un número\n",
    "        intento = int(input(\"Adivina el número: \"))\n",
    "        \n",
    "        # Verificar si el número está fuera de límites\n",
    "        if intento < 1 or intento > 100:\n",
    "            print(\"FUERA DE LÍMITES\")\n",
    "            continue  # Saltar al siguiente intento\n",
    "\n",
    "        # Agregar el intento a la lista de intentos\n",
    "        intentos.append(intento)\n",
    "        \n",
    "        # Comprobar si el número es correcto\n",
    "        if intento == numero_secreto:\n",
    "            print(f\"¡Correcto! Adivinaste el número en {len(intentos)} intentos.\")\n",
    "            break  # Salir del bucle cuando acierten\n",
    "        \n",
    "        # Comprobar si es el primer intento\n",
    "        if len(intentos) == 1:\n",
    "            # Primer intento, verificar si está caliente o frío\n",
    "            if abs(numero_secreto - intento) <= 10:\n",
    "                print(\"¡CALIENTE!\")\n",
    "            else:\n",
    "                print(\"¡FRÍO!\")\n",
    "        else:\n",
    "            # Comprobar si está más cerca o más lejos que en el intento anterior\n",
    "            distancia_anterior = abs(numero_secreto - intentos[-2])\n",
    "            distancia_actual = abs(numero_secreto - intento)\n",
    "\n",
    "            if distancia_actual < distancia_anterior:\n",
    "                print(\"¡MÁS CALIENTE!\")\n",
    "            else:\n",
    "                print(\"¡MÁS FRÍO!\")\n",
    "    \n",
    "    except ValueError:\n",
    "        print(\"Por favor, ingresa un número válido.\")"
   ]
  }
 ],
 "metadata": {
  "kernelspec": {
   "display_name": "Python 3 (ipykernel)",
   "language": "python",
   "name": "python3"
  },
  "language_info": {
   "codemirror_mode": {
    "name": "ipython",
    "version": 3
   },
   "file_extension": ".py",
   "mimetype": "text/x-python",
   "name": "python",
   "nbconvert_exporter": "python",
   "pygments_lexer": "ipython3",
   "version": "3.12.4"
  }
 },
 "nbformat": 4,
 "nbformat_minor": 5
}
