{
 "cells": [
  {
   "cell_type": "markdown",
   "id": "985e6f9b",
   "metadata": {},
   "source": [
    "# PRACTICA 2\n",
    "\n",
    "### ¡Con todo lo aprendido con Python, vamos a resolver unos ejercicios de Bioinformática!\n",
    "\n",
    "#### 1.- Concatena las cadenas ATGCC y TCCG"
   ]
  },
  {
   "cell_type": "code",
   "execution_count": 1,
   "id": "c06c7b6f",
   "metadata": {},
   "outputs": [],
   "source": [
    "cadena1 = \"ATGCC\"\n",
    "cadena2 = \"TCCG\""
   ]
  },
  {
   "cell_type": "code",
   "execution_count": 3,
   "id": "b845927c",
   "metadata": {},
   "outputs": [],
   "source": [
    "resultado = cadena1 + cadena2"
   ]
  },
  {
   "cell_type": "code",
   "execution_count": 5,
   "id": "8ae5474a-2f79-429c-a598-4912702c8791",
   "metadata": {},
   "outputs": [
    {
     "data": {
      "text/plain": [
       "'ATGCCTCCG'"
      ]
     },
     "execution_count": 5,
     "metadata": {},
     "output_type": "execute_result"
    }
   ],
   "source": [
    "resultado "
   ]
  },
  {
   "cell_type": "markdown",
   "id": "1f4b7708",
   "metadata": {},
   "source": [
    "#### 2.- ¿Cuál es la longitud de ATGCGAGT?"
   ]
  },
  {
   "cell_type": "code",
   "execution_count": 7,
   "id": "8f78cad8",
   "metadata": {},
   "outputs": [],
   "source": [
    "dna=\"ATGCGAGT\""
   ]
  },
  {
   "cell_type": "code",
   "execution_count": 9,
   "id": "ecce1da6",
   "metadata": {},
   "outputs": [],
   "source": [
    "longitud = len(dna)"
   ]
  },
  {
   "cell_type": "code",
   "execution_count": 11,
   "id": "16ec3ecb-0fa1-439a-aa35-2293d997b62b",
   "metadata": {},
   "outputs": [
    {
     "data": {
      "text/plain": [
       "8"
      ]
     },
     "execution_count": 11,
     "metadata": {},
     "output_type": "execute_result"
    }
   ],
   "source": [
    "longitud "
   ]
  },
  {
   "cell_type": "markdown",
   "id": "6361c287",
   "metadata": {},
   "source": [
    "#### 3.- Con la cadena mgXDyTw, ponla en mayúsculas, luego en minúsculas. Extrae su longitud y divide la cadena por la letra \"g\""
   ]
  },
  {
   "cell_type": "code",
   "execution_count": 13,
   "id": "b69beca1",
   "metadata": {},
   "outputs": [],
   "source": [
    "cadena=\"mgXDyTw\""
   ]
  },
  {
   "cell_type": "code",
   "execution_count": 15,
   "id": "51591dca",
   "metadata": {},
   "outputs": [],
   "source": [
    "cadena_mayusculas = cadena.upper()"
   ]
  },
  {
   "cell_type": "code",
   "execution_count": 17,
   "id": "dd9f5bca-6ba6-4a4e-853d-5fb75cf24338",
   "metadata": {},
   "outputs": [
    {
     "data": {
      "text/plain": [
       "'MGXDYTW'"
      ]
     },
     "execution_count": 17,
     "metadata": {},
     "output_type": "execute_result"
    }
   ],
   "source": [
    "cadena_mayusculas "
   ]
  },
  {
   "cell_type": "code",
   "execution_count": 21,
   "id": "c55d79db-9434-4331-8e85-a892c45a3995",
   "metadata": {},
   "outputs": [],
   "source": [
    "cadena_minusculas = cadena.lower()"
   ]
  },
  {
   "cell_type": "code",
   "execution_count": 23,
   "id": "fdee9c96-dfcc-40e6-b012-ecc75beead92",
   "metadata": {},
   "outputs": [
    {
     "data": {
      "text/plain": [
       "'mgxdytw'"
      ]
     },
     "execution_count": 23,
     "metadata": {},
     "output_type": "execute_result"
    }
   ],
   "source": [
    "cadena_minusculas "
   ]
  },
  {
   "cell_type": "code",
   "execution_count": 25,
   "id": "30b5d876-c6f2-4130-aa94-75e16b709618",
   "metadata": {},
   "outputs": [],
   "source": [
    "longitud = len(cadena)"
   ]
  },
  {
   "cell_type": "code",
   "execution_count": 27,
   "id": "c71c5426-393b-4a24-ad3e-3774b8598289",
   "metadata": {},
   "outputs": [
    {
     "data": {
      "text/plain": [
       "7"
      ]
     },
     "execution_count": 27,
     "metadata": {},
     "output_type": "execute_result"
    }
   ],
   "source": [
    "longitud"
   ]
  },
  {
   "cell_type": "code",
   "execution_count": 29,
   "id": "dc0e0148-f7de-418f-8f53-28e7028f1276",
   "metadata": {},
   "outputs": [],
   "source": [
    "dividida = cadena.split(\"g\")"
   ]
  },
  {
   "cell_type": "code",
   "execution_count": 31,
   "id": "bff2d543-535f-4f88-9072-97175ac8941e",
   "metadata": {},
   "outputs": [
    {
     "data": {
      "text/plain": [
       "['m', 'XDyTw']"
      ]
     },
     "execution_count": 31,
     "metadata": {},
     "output_type": "execute_result"
    }
   ],
   "source": [
    "dividida "
   ]
  },
  {
   "cell_type": "markdown",
   "id": "91c2ca9d",
   "metadata": {},
   "source": [
    "#### 4.- Con la secuencia de aminoácidos vlspadktnv, reemplaza la valina con la tirosina. Pista: usa replace()"
   ]
  },
  {
   "cell_type": "code",
   "execution_count": 33,
   "id": "a049ecdd",
   "metadata": {},
   "outputs": [],
   "source": [
    "aa = \"vlspadktnv\""
   ]
  },
  {
   "cell_type": "code",
   "execution_count": 35,
   "id": "0c464cc2",
   "metadata": {},
   "outputs": [],
   "source": [
    "nueva_secuencia = aa.replace('v', 'y')"
   ]
  },
  {
   "cell_type": "code",
   "execution_count": 37,
   "id": "db573b4f-8260-404e-b976-eb60f7638a66",
   "metadata": {},
   "outputs": [
    {
     "data": {
      "text/plain": [
       "'ylspadktny'"
      ]
     },
     "execution_count": 37,
     "metadata": {},
     "output_type": "execute_result"
    }
   ],
   "source": [
    "nueva_secuencia "
   ]
  },
  {
   "cell_type": "markdown",
   "id": "97f9ecd6",
   "metadata": {},
   "source": [
    "#### 5.- Cuenta las valinas de la secuencia original anterior."
   ]
  },
  {
   "cell_type": "code",
   "execution_count": 39,
   "id": "b4b5600f",
   "metadata": {},
   "outputs": [],
   "source": [
    "aa = \"vlspadktnv\""
   ]
  },
  {
   "cell_type": "code",
   "execution_count": 41,
   "id": "3ed6f4fe-e587-4708-8ac0-94904c7915d7",
   "metadata": {},
   "outputs": [],
   "source": [
    "cantidad = len(aa)"
   ]
  },
  {
   "cell_type": "code",
   "execution_count": 43,
   "id": "8f03f65c-0030-4709-99f8-824e8f741ad0",
   "metadata": {},
   "outputs": [
    {
     "data": {
      "text/plain": [
       "10"
      ]
     },
     "execution_count": 43,
     "metadata": {},
     "output_type": "execute_result"
    }
   ],
   "source": [
    "cantidad "
   ]
  },
  {
   "cell_type": "markdown",
   "id": "6aac8e24",
   "metadata": {},
   "source": [
    "#### 6.- Con el diccionario siguiente imprime el valor de BisI y saca el valor de EcoRI con pop(). ¿Qué pasa con el diccionario?"
   ]
  },
  {
   "cell_type": "code",
   "execution_count": 45,
   "id": "c0c811d7",
   "metadata": {},
   "outputs": [],
   "source": [
    "enzR = {\n",
    "    'EcoRI':r'GAATTC',\n",
    "    'AvaII':r'GG(A|T)CC',\n",
    "    'BisI':r'GC[ATGC]GC'\n",
    "}"
   ]
  },
  {
   "cell_type": "code",
   "execution_count": 47,
   "id": "5dacb009",
   "metadata": {},
   "outputs": [
    {
     "name": "stdout",
     "output_type": "stream",
     "text": [
      "Valor de BisI: GC[ATGC]GC\n"
     ]
    }
   ],
   "source": [
    "print(\"Valor de BisI:\", enzR['BisI'])"
   ]
  },
  {
   "cell_type": "code",
   "execution_count": 49,
   "id": "8cc2e6b4-5ce0-4887-bc13-6f00f4e49840",
   "metadata": {},
   "outputs": [],
   "source": [
    "eco_value = enzR.pop('EcoRI')"
   ]
  },
  {
   "cell_type": "code",
   "execution_count": 51,
   "id": "c99749fa-c1b0-4e86-9937-e3b811af637f",
   "metadata": {},
   "outputs": [
    {
     "data": {
      "text/plain": [
       "'GAATTC'"
      ]
     },
     "execution_count": 51,
     "metadata": {},
     "output_type": "execute_result"
    }
   ],
   "source": [
    "eco_value "
   ]
  },
  {
   "cell_type": "code",
   "execution_count": 57,
   "id": "837e6d8f-d3ef-4d5f-80a5-ec5a73257bc1",
   "metadata": {},
   "outputs": [
    {
     "name": "stdout",
     "output_type": "stream",
     "text": [
      "Valor de EcoRI: GAATTC\n"
     ]
    }
   ],
   "source": [
    "print(\"Valor de EcoRI:\", eco_value)"
   ]
  },
  {
   "cell_type": "markdown",
   "id": "4646bddd",
   "metadata": {},
   "source": [
    "#### 7.- Con la secuencia y la lista siguiente, escribe un algoritmo que cuente el número de veces que aparece un elemento de la lista en la secuencia. Pista: hacer un diccionario para almacenar los resultados puede ser buena idea"
   ]
  },
  {
   "cell_type": "code",
   "execution_count": 63,
   "id": "0a701a5e",
   "metadata": {},
   "outputs": [],
   "source": [
    "dna = \"AATGATGAACGAC\" \n",
    "dinucleotides = ['AA','AT','AG','AC', \n",
    "                 'TA','TT','TG','TC', \n",
    "                 'GA','GT','GG','GC', \n",
    "                 'CA','CT','CG','CT'] "
   ]
  },
  {
   "cell_type": "markdown",
   "id": "a44b5e4c",
   "metadata": {},
   "source": [
    "##### ¿Cuántos counts tiene TC?"
   ]
  },
  {
   "cell_type": "code",
   "execution_count": 109,
   "id": "cde4f056-0e2f-458e-babe-1419272fc743",
   "metadata": {},
   "outputs": [
    {
     "data": {
      "text/plain": [
       "1"
      ]
     },
     "execution_count": 109,
     "metadata": {},
     "output_type": "execute_result"
    }
   ],
   "source": [
    "dinucleotides.count('TC')"
   ]
  },
  {
   "cell_type": "markdown",
   "id": "70245f18",
   "metadata": {},
   "source": [
    "##### ¿Puedes imprimir los dinuleótidos que tengan counts igual a 2?"
   ]
  },
  {
   "cell_type": "code",
   "execution_count": 111,
   "id": "b83480e8",
   "metadata": {},
   "outputs": [
    {
     "name": "stdout",
     "output_type": "stream",
     "text": [
      "CT\n"
     ]
    }
   ],
   "source": [
    "print ('CT')"
   ]
  }
 ],
 "metadata": {
  "kernelspec": {
   "display_name": "Python 3 (ipykernel)",
   "language": "python",
   "name": "python3"
  },
  "language_info": {
   "codemirror_mode": {
    "name": "ipython",
    "version": 3
   },
   "file_extension": ".py",
   "mimetype": "text/x-python",
   "name": "python",
   "nbconvert_exporter": "python",
   "pygments_lexer": "ipython3",
   "version": "3.12.4"
  }
 },
 "nbformat": 4,
 "nbformat_minor": 5
}
