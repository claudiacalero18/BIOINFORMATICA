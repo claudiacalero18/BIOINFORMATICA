{
 "cells": [
  {
   "cell_type": "markdown",
   "id": "57e5a4ba",
   "metadata": {},
   "source": [
    "# PRACTICA 1 Estructuras de Datos\n",
    "\n",
    "### Resuelve las siguientes preguntas empleando lo aprendido con las estructuras de Datos"
   ]
  },
  {
   "cell_type": "markdown",
   "id": "092831f1",
   "metadata": {},
   "source": [
    "Pon el código debajo de cada pregunta. Añade tantas celdas de código como necesites."
   ]
  },
  {
   "cell_type": "markdown",
   "id": "94b6abb8",
   "metadata": {},
   "source": [
    "#### 1.- Escribe una ecuación que emplee multiplicación, división, un exponente, suma y resta y que sea igual a 100.25."
   ]
  },
  {
   "cell_type": "code",
   "execution_count": 15,
   "id": "4e5e660a",
   "metadata": {},
   "outputs": [
    {
     "data": {
      "text/plain": [
       "25"
      ]
     },
     "execution_count": 15,
     "metadata": {},
     "output_type": "execute_result"
    }
   ],
   "source": [
    "5**2"
   ]
  },
  {
   "cell_type": "code",
   "execution_count": 9,
   "id": "edaa4373-a993-431e-baaf-002de3230b79",
   "metadata": {},
   "outputs": [
    {
     "data": {
      "text/plain": [
       "100"
      ]
     },
     "execution_count": 9,
     "metadata": {},
     "output_type": "execute_result"
    }
   ],
   "source": [
    "25 *4"
   ]
  },
  {
   "cell_type": "code",
   "execution_count": 11,
   "id": "c5d4903f-9103-45ee-a3af-6958a3228701",
   "metadata": {},
   "outputs": [
    {
     "data": {
      "text/plain": [
       "50.0"
      ]
     },
     "execution_count": 11,
     "metadata": {},
     "output_type": "execute_result"
    }
   ],
   "source": [
    "100/2"
   ]
  },
  {
   "cell_type": "code",
   "execution_count": 13,
   "id": "49101965-15d3-4aa2-a0e0-b25088c71bbb",
   "metadata": {},
   "outputs": [
    {
     "data": {
      "text/plain": [
       "100.25"
      ]
     },
     "execution_count": 13,
     "metadata": {},
     "output_type": "execute_result"
    }
   ],
   "source": [
    "50 +50.25"
   ]
  },
  {
   "cell_type": "markdown",
   "id": "95ec00dc",
   "metadata": {},
   "source": [
    "#### 2.- ¿Qué harías para obtener la raíz cuadrada de 100?"
   ]
  },
  {
   "cell_type": "code",
   "execution_count": 19,
   "id": "d1476ef0",
   "metadata": {},
   "outputs": [
    {
     "data": {
      "text/plain": [
       "10.0"
      ]
     },
     "execution_count": 19,
     "metadata": {},
     "output_type": "execute_result"
    }
   ],
   "source": [
    "100** 0.5"
   ]
  },
  {
   "cell_type": "markdown",
   "id": "95232620",
   "metadata": {},
   "source": [
    "#### 3.- ¿Y el cuadrado de 100?"
   ]
  },
  {
   "cell_type": "code",
   "execution_count": 21,
   "id": "14249667",
   "metadata": {},
   "outputs": [
    {
     "data": {
      "text/plain": [
       "10000"
      ]
     },
     "execution_count": 21,
     "metadata": {},
     "output_type": "execute_result"
    }
   ],
   "source": [
    "100**2"
   ]
  },
  {
   "cell_type": "markdown",
   "id": "7fc5bfae",
   "metadata": {},
   "source": [
    "#### 4.- Tenemos la string 'hello'.\n",
    "#### Primero devuelve la letra 'e'\n",
    "#### Luego dale la vuelta a la string \n",
    "#### Después usa dos métodos para devolver la letra 'o'"
   ]
  },
  {
   "cell_type": "code",
   "execution_count": 35,
   "id": "a6d0eb90",
   "metadata": {},
   "outputs": [],
   "source": [
    "s = 'hello'"
   ]
  },
  {
   "cell_type": "code",
   "execution_count": 41,
   "id": "a3f33800",
   "metadata": {},
   "outputs": [],
   "source": [
    "letra_e = s[1]"
   ]
  },
  {
   "cell_type": "code",
   "execution_count": 47,
   "id": "48662b5d-4fe3-4e17-8da1-d70c2ff6128a",
   "metadata": {},
   "outputs": [
    {
     "data": {
      "text/plain": [
       "'e'"
      ]
     },
     "execution_count": 47,
     "metadata": {},
     "output_type": "execute_result"
    }
   ],
   "source": [
    "letra_e"
   ]
  },
  {
   "cell_type": "code",
   "execution_count": 49,
   "id": "d70d2381-b48b-4d6d-8a9d-92fce6103651",
   "metadata": {},
   "outputs": [],
   "source": [
    "string_invertida = s[::-1]"
   ]
  },
  {
   "cell_type": "code",
   "execution_count": 53,
   "id": "22916016-502f-4197-8382-5b689eeaf08d",
   "metadata": {},
   "outputs": [
    {
     "data": {
      "text/plain": [
       "'olleh'"
      ]
     },
     "execution_count": 53,
     "metadata": {},
     "output_type": "execute_result"
    }
   ],
   "source": [
    "string_invertida"
   ]
  },
  {
   "cell_type": "code",
   "execution_count": 55,
   "id": "7df077a4-889b-4699-9989-4913151f14b5",
   "metadata": {},
   "outputs": [],
   "source": [
    "letra_o_metodo1 = s[-1]"
   ]
  },
  {
   "cell_type": "code",
   "execution_count": 57,
   "id": "9459b7ab-1bb9-4d67-9c30-2e075415d80c",
   "metadata": {},
   "outputs": [
    {
     "data": {
      "text/plain": [
       "'o'"
      ]
     },
     "execution_count": 57,
     "metadata": {},
     "output_type": "execute_result"
    }
   ],
   "source": [
    "letra_o_metodo1"
   ]
  },
  {
   "cell_type": "code",
   "execution_count": 59,
   "id": "632a7fdc-4184-4103-a879-9f4ccd7cff6d",
   "metadata": {},
   "outputs": [],
   "source": [
    "indice_o = s.find('o')"
   ]
  },
  {
   "cell_type": "code",
   "execution_count": 61,
   "id": "e709ba3f-3010-4a64-946a-545502e00643",
   "metadata": {},
   "outputs": [],
   "source": [
    "letra_o_metodo2 = s[indice_o]"
   ]
  },
  {
   "cell_type": "code",
   "execution_count": 63,
   "id": "aa5be4b4-f39b-4747-bddb-d6eca8acd717",
   "metadata": {},
   "outputs": [
    {
     "data": {
      "text/plain": [
       "'o'"
      ]
     },
     "execution_count": 63,
     "metadata": {},
     "output_type": "execute_result"
    }
   ],
   "source": [
    "letra_o_metodo2\n"
   ]
  },
  {
   "cell_type": "markdown",
   "id": "0febc918",
   "metadata": {},
   "source": [
    "#### 5.- Crear una lista que contenga esto [0,0,0] de dos formas distintas"
   ]
  },
  {
   "cell_type": "code",
   "execution_count": 43,
   "id": "30981b24",
   "metadata": {},
   "outputs": [],
   "source": [
    "mi_lista= [0,0,0]"
   ]
  },
  {
   "cell_type": "code",
   "execution_count": 45,
   "id": "11b3e620-53d5-46c6-b85a-7e49ec9797ee",
   "metadata": {},
   "outputs": [
    {
     "data": {
      "text/plain": [
       "[0, 0, 0]"
      ]
     },
     "execution_count": 45,
     "metadata": {},
     "output_type": "execute_result"
    }
   ],
   "source": [
    "mi_lista"
   ]
  },
  {
   "cell_type": "code",
   "execution_count": 103,
   "id": "fc66e30d-c785-4287-a905-6ef4231691e8",
   "metadata": {},
   "outputs": [],
   "source": [
    "mi_lista= [0] * 3"
   ]
  },
  {
   "cell_type": "code",
   "execution_count": 105,
   "id": "24c2c083-4898-45c0-8bb9-5b635a6a34ce",
   "metadata": {},
   "outputs": [
    {
     "data": {
      "text/plain": [
       "[0, 0, 0]"
      ]
     },
     "execution_count": 105,
     "metadata": {},
     "output_type": "execute_result"
    }
   ],
   "source": [
    "mi_lista"
   ]
  },
  {
   "cell_type": "markdown",
   "id": "80e1a951",
   "metadata": {},
   "source": [
    "#### 6.- Reasigna 'hello' en la lista a continuación para que diga 'goodbye'"
   ]
  },
  {
   "cell_type": "code",
   "execution_count": 65,
   "id": "20d1ebdf",
   "metadata": {},
   "outputs": [],
   "source": [
    "lista = [1,2,[3,4,'hello']]"
   ]
  },
  {
   "cell_type": "code",
   "execution_count": 67,
   "id": "e9eb03ae",
   "metadata": {},
   "outputs": [],
   "source": [
    "lista[2][2] = 'goodbye'"
   ]
  },
  {
   "cell_type": "code",
   "execution_count": 69,
   "id": "efa6214b-a392-489d-9185-e1c40cfb1f8f",
   "metadata": {},
   "outputs": [
    {
     "data": {
      "text/plain": [
       "'goodbye'"
      ]
     },
     "execution_count": 69,
     "metadata": {},
     "output_type": "execute_result"
    }
   ],
   "source": [
    "lista[2][2] "
   ]
  },
  {
   "cell_type": "markdown",
   "id": "77e38490",
   "metadata": {},
   "source": [
    "#### 7.- Ordena la siguiente lista"
   ]
  },
  {
   "cell_type": "code",
   "execution_count": 71,
   "id": "bc957d55",
   "metadata": {},
   "outputs": [],
   "source": [
    "listaSinOrdenar = [5,3,4,6,1]"
   ]
  },
  {
   "cell_type": "code",
   "execution_count": 75,
   "id": "e2c2fb65",
   "metadata": {},
   "outputs": [],
   "source": [
    "listaOrdenada = sorted(listaSinOrdenar)"
   ]
  },
  {
   "cell_type": "code",
   "execution_count": 77,
   "id": "0066ddbd-f745-4626-a3e4-e1727266569e",
   "metadata": {},
   "outputs": [
    {
     "data": {
      "text/plain": [
       "[1, 3, 4, 5, 6]"
      ]
     },
     "execution_count": 77,
     "metadata": {},
     "output_type": "execute_result"
    }
   ],
   "source": [
    "listaOrdenada"
   ]
  },
  {
   "cell_type": "markdown",
   "id": "0cc790ac",
   "metadata": {},
   "source": [
    "#### 8.- En los siguientes diccionarios, extrae el valor de 'hello'"
   ]
  },
  {
   "cell_type": "code",
   "execution_count": 79,
   "id": "c390a0bb",
   "metadata": {},
   "outputs": [],
   "source": [
    "f = {'k1':{'k2':'hello'}}"
   ]
  },
  {
   "cell_type": "code",
   "execution_count": 81,
   "id": "4cdcd16e",
   "metadata": {},
   "outputs": [],
   "source": [
    "valor = f['k1']['k2']"
   ]
  },
  {
   "cell_type": "code",
   "execution_count": 83,
   "id": "fa7a5b5c-4ec3-4693-89cb-53cefab95937",
   "metadata": {},
   "outputs": [
    {
     "data": {
      "text/plain": [
       "'hello'"
      ]
     },
     "execution_count": 83,
     "metadata": {},
     "output_type": "execute_result"
    }
   ],
   "source": [
    "valor"
   ]
  },
  {
   "cell_type": "code",
   "execution_count": 85,
   "id": "c0244e1f",
   "metadata": {},
   "outputs": [],
   "source": [
    "d = {'key1':'hello'}"
   ]
  },
  {
   "cell_type": "code",
   "execution_count": 87,
   "id": "196ef04c",
   "metadata": {},
   "outputs": [],
   "source": [
    "valor = d['key1']"
   ]
  },
  {
   "cell_type": "code",
   "execution_count": 89,
   "id": "849b5baa-bd83-40f1-b884-02270363ba93",
   "metadata": {},
   "outputs": [
    {
     "data": {
      "text/plain": [
       "'hello'"
      ]
     },
     "execution_count": 89,
     "metadata": {},
     "output_type": "execute_result"
    }
   ],
   "source": [
    "valor"
   ]
  },
  {
   "cell_type": "code",
   "execution_count": 91,
   "id": "344d780b",
   "metadata": {},
   "outputs": [],
   "source": [
    "g = {'k1':[{'o1':['valor escondido',['hello']]}]}"
   ]
  },
  {
   "cell_type": "code",
   "execution_count": 93,
   "id": "e965a858",
   "metadata": {},
   "outputs": [],
   "source": [
    "valor_hello = g['k1'][0]['o1'][1][0]"
   ]
  },
  {
   "cell_type": "code",
   "execution_count": 95,
   "id": "b247cd2c-1b35-4253-ab4f-8b448536c81b",
   "metadata": {},
   "outputs": [
    {
     "data": {
      "text/plain": [
       "'hello'"
      ]
     },
     "execution_count": 95,
     "metadata": {},
     "output_type": "execute_result"
    }
   ],
   "source": [
    "valor_hello "
   ]
  },
  {
   "cell_type": "code",
   "execution_count": 97,
   "id": "663f9ffd",
   "metadata": {},
   "outputs": [],
   "source": [
    "h = {'k1':[1,2,{'k2':['complicado',{'dificil':[1,2,['hello']]}]}]}"
   ]
  },
  {
   "cell_type": "code",
   "execution_count": 99,
   "id": "9b9d7d97",
   "metadata": {},
   "outputs": [],
   "source": [
    "valor_hello = h['k1'][2]['k2'][1]['dificil'][2][0]"
   ]
  },
  {
   "cell_type": "code",
   "execution_count": 101,
   "id": "b66eaaaa-b3b3-4415-b030-5fdab7a74105",
   "metadata": {},
   "outputs": [
    {
     "data": {
      "text/plain": [
       "'hello'"
      ]
     },
     "execution_count": 101,
     "metadata": {},
     "output_type": "execute_result"
    }
   ],
   "source": [
    "valor_hello "
   ]
  },
  {
   "cell_type": "markdown",
   "id": "7692eea8",
   "metadata": {},
   "source": [
    "#### 9.- Crea una tupla"
   ]
  },
  {
   "cell_type": "code",
   "execution_count": 107,
   "id": "23886da1",
   "metadata": {},
   "outputs": [],
   "source": [
    "mi_tupla = (1, 2, 3, 'hola', True)"
   ]
  },
  {
   "cell_type": "code",
   "execution_count": 109,
   "id": "763c15a2-e797-448c-ae41-92683efa24cb",
   "metadata": {},
   "outputs": [
    {
     "data": {
      "text/plain": [
       "(1, 2, 3, 'hola', True)"
      ]
     },
     "execution_count": 109,
     "metadata": {},
     "output_type": "execute_result"
    }
   ],
   "source": [
    "mi_tupla "
   ]
  },
  {
   "cell_type": "markdown",
   "id": "6231d723",
   "metadata": {},
   "source": [
    "#### 10.- Emplea los sets para encontrar los valores únicos de esta lista"
   ]
  },
  {
   "cell_type": "code",
   "execution_count": 111,
   "id": "a7cbba3a",
   "metadata": {},
   "outputs": [],
   "source": [
    "listaDuplicada = [1,2,2,33,4,4,11,22,3,3,2]"
   ]
  },
  {
   "cell_type": "code",
   "execution_count": 113,
   "id": "71da8284",
   "metadata": {},
   "outputs": [],
   "source": [
    "valores_unicos = set(listaDuplicada)"
   ]
  },
  {
   "cell_type": "code",
   "execution_count": 115,
   "id": "d2564e0d-42fe-4ced-a196-38b32f92f657",
   "metadata": {},
   "outputs": [
    {
     "data": {
      "text/plain": [
       "{1, 2, 3, 4, 11, 22, 33}"
      ]
     },
     "execution_count": 115,
     "metadata": {},
     "output_type": "execute_result"
    }
   ],
   "source": [
    "valores_unicos "
   ]
  },
  {
   "cell_type": "markdown",
   "id": "9b217cfc",
   "metadata": {},
   "source": [
    "#### 11.- Haz las siguientes comparaciones:\n",
    "#### Dos mayor que tres\n",
    "#### Tres igual que 2\n",
    "#### La raíz cuadrada de cuatro no es igual a 2"
   ]
  },
  {
   "cell_type": "code",
   "execution_count": 117,
   "id": "59b70e21",
   "metadata": {},
   "outputs": [],
   "source": [
    "# 2 mayor que 3"
   ]
  },
  {
   "cell_type": "code",
   "execution_count": 119,
   "id": "22412bb2-0fd5-4d71-9d8e-a280a9fb8e78",
   "metadata": {},
   "outputs": [],
   "source": [
    "a=True"
   ]
  },
  {
   "cell_type": "code",
   "execution_count": 121,
   "id": "f7c96dbc-4e25-4e5e-9b5b-1cdee7378e81",
   "metadata": {},
   "outputs": [
    {
     "data": {
      "text/plain": [
       "False"
      ]
     },
     "execution_count": 121,
     "metadata": {},
     "output_type": "execute_result"
    }
   ],
   "source": [
    "2>3"
   ]
  },
  {
   "cell_type": "code",
   "execution_count": 123,
   "id": "89985eaf",
   "metadata": {},
   "outputs": [],
   "source": [
    "# 3 igual que 2"
   ]
  },
  {
   "cell_type": "code",
   "execution_count": 127,
   "id": "e0506c4c-236a-48b2-87c8-251f0d5b7949",
   "metadata": {},
   "outputs": [],
   "source": [
    "a=True"
   ]
  },
  {
   "cell_type": "code",
   "execution_count": 131,
   "id": "56c6c5cd-d6be-427b-978c-5fca96688366",
   "metadata": {},
   "outputs": [
    {
     "data": {
      "text/plain": [
       "False"
      ]
     },
     "execution_count": 131,
     "metadata": {},
     "output_type": "execute_result"
    }
   ],
   "source": [
    "3==2"
   ]
  },
  {
   "cell_type": "code",
   "execution_count": 133,
   "id": "16c4febf",
   "metadata": {},
   "outputs": [],
   "source": [
    "# raíz cuadrada de 4 no es igual a 2"
   ]
  },
  {
   "cell_type": "code",
   "execution_count": 139,
   "id": "d1a83a1b-53a7-42c6-a283-e86f0d3a2237",
   "metadata": {},
   "outputs": [],
   "source": [
    "a= True"
   ]
  },
  {
   "cell_type": "code",
   "execution_count": 143,
   "id": "4993f4d9-62b0-48e1-ac94-f7bebcf31e2b",
   "metadata": {},
   "outputs": [
    {
     "data": {
      "text/plain": [
       "False"
      ]
     },
     "execution_count": 143,
     "metadata": {},
     "output_type": "execute_result"
    }
   ],
   "source": [
    "4*0.5 != 2"
   ]
  }
 ],
 "metadata": {
  "kernelspec": {
   "display_name": "Python 3 (ipykernel)",
   "language": "python",
   "name": "python3"
  },
  "language_info": {
   "codemirror_mode": {
    "name": "ipython",
    "version": 3
   },
   "file_extension": ".py",
   "mimetype": "text/x-python",
   "name": "python",
   "nbconvert_exporter": "python",
   "pygments_lexer": "ipython3",
   "version": "3.12.4"
  }
 },
 "nbformat": 4,
 "nbformat_minor": 5
}
