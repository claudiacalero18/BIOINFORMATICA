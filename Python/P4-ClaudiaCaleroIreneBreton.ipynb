{
 "cells": [
  {
   "cell_type": "markdown",
   "id": "985e6f9b",
   "metadata": {},
   "source": [
    "# PRACTICA 4\n",
    "\n",
    "### Resuelve los siguientes ejercicios"
   ]
  },
  {
   "cell_type": "markdown",
   "id": "28748e51",
   "metadata": {},
   "source": [
    "##### 1.- Abre el fichero dna.txt, guarda una lista del contenido del archivo. Devuelve su longitud y su primer caracter"
   ]
  },
  {
   "cell_type": "code",
   "execution_count": 19,
   "id": "88679bbc",
   "metadata": {},
   "outputs": [],
   "source": [
    "with open('dna.txt', 'r') as file:\n",
    "    dna_content = file.read()"
   ]
  },
  {
   "cell_type": "code",
   "execution_count": 21,
   "id": "dbc445a2-0e26-48ab-bbbb-3e1a241acaab",
   "metadata": {},
   "outputs": [
    {
     "data": {
      "text/plain": [
       "'ATCGATCGATCGATCGACTGACTAGTCATAGCTATGCATGTAGCTACTCGATCGATCGATCGATCGATCGATCGATCGATCGATCATGCTATCATCGATCGATATCGATGCATCGACTACTAT'"
      ]
     },
     "execution_count": 21,
     "metadata": {},
     "output_type": "execute_result"
    }
   ],
   "source": [
    "dna_content "
   ]
  },
  {
   "cell_type": "code",
   "execution_count": 3,
   "id": "d4a83f26-fc8d-4b0a-a2a9-036fa70c52c1",
   "metadata": {},
   "outputs": [],
   "source": [
    "dna_list = list(dna_content)"
   ]
  },
  {
   "cell_type": "code",
   "execution_count": 11,
   "id": "a902a419-739e-4b7e-a2db-f897e1ed2c93",
   "metadata": {},
   "outputs": [
    {
     "data": {
      "text/plain": [
       "['A',\n",
       " 'T',\n",
       " 'C',\n",
       " 'G',\n",
       " 'A',\n",
       " 'T',\n",
       " 'C',\n",
       " 'G',\n",
       " 'A',\n",
       " 'T',\n",
       " 'C',\n",
       " 'G',\n",
       " 'A',\n",
       " 'T',\n",
       " 'C',\n",
       " 'G',\n",
       " 'A',\n",
       " 'C',\n",
       " 'T',\n",
       " 'G',\n",
       " 'A',\n",
       " 'C',\n",
       " 'T',\n",
       " 'A',\n",
       " 'G',\n",
       " 'T',\n",
       " 'C',\n",
       " 'A',\n",
       " 'T',\n",
       " 'A',\n",
       " 'G',\n",
       " 'C',\n",
       " 'T',\n",
       " 'A',\n",
       " 'T',\n",
       " 'G',\n",
       " 'C',\n",
       " 'A',\n",
       " 'T',\n",
       " 'G',\n",
       " 'T',\n",
       " 'A',\n",
       " 'G',\n",
       " 'C',\n",
       " 'T',\n",
       " 'A',\n",
       " 'C',\n",
       " 'T',\n",
       " 'C',\n",
       " 'G',\n",
       " 'A',\n",
       " 'T',\n",
       " 'C',\n",
       " 'G',\n",
       " 'A',\n",
       " 'T',\n",
       " 'C',\n",
       " 'G',\n",
       " 'A',\n",
       " 'T',\n",
       " 'C',\n",
       " 'G',\n",
       " 'A',\n",
       " 'T',\n",
       " 'C',\n",
       " 'G',\n",
       " 'A',\n",
       " 'T',\n",
       " 'C',\n",
       " 'G',\n",
       " 'A',\n",
       " 'T',\n",
       " 'C',\n",
       " 'G',\n",
       " 'A',\n",
       " 'T',\n",
       " 'C',\n",
       " 'G',\n",
       " 'A',\n",
       " 'T',\n",
       " 'C',\n",
       " 'G',\n",
       " 'A',\n",
       " 'T',\n",
       " 'C',\n",
       " 'A',\n",
       " 'T',\n",
       " 'G',\n",
       " 'C',\n",
       " 'T',\n",
       " 'A',\n",
       " 'T',\n",
       " 'C',\n",
       " 'A',\n",
       " 'T',\n",
       " 'C',\n",
       " 'G',\n",
       " 'A',\n",
       " 'T',\n",
       " 'C',\n",
       " 'G',\n",
       " 'A',\n",
       " 'T',\n",
       " 'A',\n",
       " 'T',\n",
       " 'C',\n",
       " 'G',\n",
       " 'A',\n",
       " 'T',\n",
       " 'G',\n",
       " 'C',\n",
       " 'A',\n",
       " 'T',\n",
       " 'C',\n",
       " 'G',\n",
       " 'A',\n",
       " 'C',\n",
       " 'T',\n",
       " 'A',\n",
       " 'C',\n",
       " 'T',\n",
       " 'A',\n",
       " 'T']"
      ]
     },
     "execution_count": 11,
     "metadata": {},
     "output_type": "execute_result"
    }
   ],
   "source": [
    "dna_list "
   ]
  },
  {
   "cell_type": "code",
   "execution_count": 5,
   "id": "aa20610d-6f69-4995-819c-fc3b177a1db7",
   "metadata": {},
   "outputs": [],
   "source": [
    "dna_length = len(dna_list)"
   ]
  },
  {
   "cell_type": "code",
   "execution_count": 9,
   "id": "753cae41-287f-4f6a-a7d8-f5281fe24933",
   "metadata": {},
   "outputs": [
    {
     "data": {
      "text/plain": [
       "123"
      ]
     },
     "execution_count": 9,
     "metadata": {},
     "output_type": "execute_result"
    }
   ],
   "source": [
    "dna_length "
   ]
  },
  {
   "cell_type": "code",
   "execution_count": 13,
   "id": "93923924-55f1-45e9-bae8-76cd4b9ac16b",
   "metadata": {},
   "outputs": [],
   "source": [
    "first_character = dna_list[0]"
   ]
  },
  {
   "cell_type": "code",
   "execution_count": 15,
   "id": "f2acafc9-4dd2-4180-b271-738f7a9229bb",
   "metadata": {},
   "outputs": [
    {
     "data": {
      "text/plain": [
       "'A'"
      ]
     },
     "execution_count": 15,
     "metadata": {},
     "output_type": "execute_result"
    }
   ],
   "source": [
    "first_character "
   ]
  },
  {
   "cell_type": "code",
   "execution_count": 17,
   "id": "6859e0f6-01ad-455d-a289-692a3245c961",
   "metadata": {},
   "outputs": [
    {
     "name": "stdout",
     "output_type": "stream",
     "text": [
      "Longitud del ADN: 123\n",
      "Primer carácter del ADN: A\n"
     ]
    }
   ],
   "source": [
    "print(f\"Longitud del ADN: {dna_length}\")\n",
    "print(f\"Primer carácter del ADN: {first_character}\")"
   ]
  },
  {
   "cell_type": "markdown",
   "id": "9b87396a",
   "metadata": {},
   "source": [
    "##### 2.- Crea dos archivos. Uno almacena los accession que empiezen por 'a' y el otro el resto"
   ]
  },
  {
   "cell_type": "code",
   "execution_count": 43,
   "id": "73957856",
   "metadata": {},
   "outputs": [],
   "source": [
    "accs = ['ab56', 'bh84', 'hv76', 'ay93', 'ap97', 'bd72']"
   ]
  },
  {
   "cell_type": "code",
   "execution_count": 45,
   "id": "13f97914-c00b-4334-8ca9-d7184bf06447",
   "metadata": {},
   "outputs": [],
   "source": [
    "accessions_a = [acc for acc in accs if acc.startswith('a')]\n",
    "accessions_others = [acc for acc in accs if not acc.startswith('a')]\n"
   ]
  },
  {
   "cell_type": "code",
   "execution_count": 49,
   "id": "9b1efed1-236f-43ad-b43f-c2a649c6498e",
   "metadata": {},
   "outputs": [
    {
     "data": {
      "text/plain": [
       "['ab56', 'ay93', 'ap97']"
      ]
     },
     "execution_count": 49,
     "metadata": {},
     "output_type": "execute_result"
    }
   ],
   "source": [
    "accessions_a \n",
    "\n"
   ]
  },
  {
   "cell_type": "code",
   "execution_count": 51,
   "id": "d1aef330-4bd8-4c24-a6fb-30f737b71632",
   "metadata": {},
   "outputs": [
    {
     "data": {
      "text/plain": [
       "['bh84', 'hv76', 'bd72']"
      ]
     },
     "execution_count": 51,
     "metadata": {},
     "output_type": "execute_result"
    }
   ],
   "source": [
    "\n",
    "accessions_others \n"
   ]
  },
  {
   "cell_type": "code",
   "execution_count": 53,
   "id": "38a1e6b8-5222-4cef-83fa-6a128ade1b3c",
   "metadata": {},
   "outputs": [],
   "source": [
    "\n",
    "with open('accessions_a.txt', 'w') as file_a:\n",
    "    for acc in accessions_a:\n",
    "        file_a.write(acc + '\\n') \n"
   ]
  },
  {
   "cell_type": "code",
   "execution_count": 55,
   "id": "3a5f6f0c-2fbd-4ada-88b6-13f9a34fd6c5",
   "metadata": {},
   "outputs": [],
   "source": [
    "with open('accessions_others.txt', 'w') as file_other:\n",
    "    for acc in accessions_others:\n",
    "        file_other.write(acc + '\\n')"
   ]
  },
  {
   "cell_type": "markdown",
   "id": "9cbb4adf",
   "metadata": {},
   "source": [
    "##### 3.- Imprime solamente los accessions de la lista anterior que empiecen por 'a' y no acaben con '6'. Pista: usa endswith() y startswidth()"
   ]
  },
  {
   "cell_type": "code",
   "execution_count": 185,
   "id": "b32ca419",
   "metadata": {},
   "outputs": [],
   "source": [
    "accs = ['ab56', 'bh84', 'hv76', 'ay93', 'ap97', 'bd72']"
   ]
  },
  {
   "cell_type": "code",
   "execution_count": 187,
   "id": "531a3989-fe2d-47f4-8a87-5394601ba1eb",
   "metadata": {},
   "outputs": [
    {
     "data": {
      "text/plain": [
       "['ab56', 'bh84', 'hv76', 'ay93', 'ap97', 'bd72']"
      ]
     },
     "execution_count": 187,
     "metadata": {},
     "output_type": "execute_result"
    }
   ],
   "source": [
    "accs "
   ]
  },
  {
   "cell_type": "code",
   "execution_count": 189,
   "id": "c7035421-55c5-4263-88ac-9af6d14fe55d",
   "metadata": {},
   "outputs": [],
   "source": [
    "filtered_accessions = [acc for acc in accs if acc.startswith('a') and not acc.endswith('6')]"
   ]
  },
  {
   "cell_type": "code",
   "execution_count": 191,
   "id": "dfa0ad5a-e62a-49c6-b42c-19a500fc705e",
   "metadata": {},
   "outputs": [
    {
     "data": {
      "text/plain": [
       "['ay93', 'ap97']"
      ]
     },
     "execution_count": 191,
     "metadata": {},
     "output_type": "execute_result"
    }
   ],
   "source": [
    "filtered_accessions "
   ]
  },
  {
   "cell_type": "code",
   "execution_count": 193,
   "id": "929be1a3-e667-474e-b3e0-65e136be224f",
   "metadata": {},
   "outputs": [
    {
     "name": "stdout",
     "output_type": "stream",
     "text": [
      "ay93\n",
      "ap97\n"
     ]
    }
   ],
   "source": [
    "for acc in filtered_accessions:\n",
    "    print(acc)"
   ]
  },
  {
   "cell_type": "markdown",
   "id": "42c397b0",
   "metadata": {},
   "source": [
    "##### 4.- Escribe una función que cuente el porcentaje de A de una secuencia"
   ]
  },
  {
   "cell_type": "code",
   "execution_count": 195,
   "id": "da633510",
   "metadata": {},
   "outputs": [],
   "source": [
    "def porcentaje_a(secuencia, decimales=1):\n",
    "    \n",
    "    count_a = secuencia.count('A')  \n",
    "    total = len(secuencia)  \n",
    "    \n",
    "    \n",
    "    porcentaje = (count_a / total) * 100\n",
    "    \n",
    "    \n",
    "    return round(porcentaje, decimales)\n",
    "    \n",
    "    \n",
    "    \n",
    "    \n",
    "    \n",
    "\n",
    "\n",
    "\n",
    "    \n",
    "    "
   ]
  },
  {
   "cell_type": "code",
   "execution_count": 197,
   "id": "4eab3ff6-e959-4e09-a56b-e0cf4a4b6b10",
   "metadata": {},
   "outputs": [
    {
     "data": {
      "text/plain": [
       "26.8"
      ]
     },
     "execution_count": 197,
     "metadata": {},
     "output_type": "execute_result"
    }
   ],
   "source": [
    "porcentaje_a(dna_content)"
   ]
  },
  {
   "cell_type": "markdown",
   "id": "5286cb6b-feb8-4cf0-b0a7-516306028ab2",
   "metadata": {},
   "source": [
    "##### ¿Puedes hacer que devuelva dos decimales? ¿Y que lidie con mayúsculas y minúsculas?"
   ]
  },
  {
   "cell_type": "code",
   "execution_count": 199,
   "id": "e6bd54bc-1f6a-4dbd-ad35-d1e61865ffb6",
   "metadata": {},
   "outputs": [],
   "source": [
    "def porcentaje_a(secuencia, decimales=2):\n",
    "    \n",
    "    count_a = secuencia.count('A')  \n",
    "    total = len(secuencia)  \n",
    "    \n",
    "    \n",
    "    porcentaje = (count_a / total) * 100\n",
    "    \n",
    "    \n",
    "    return round(porcentaje, decimales)\n",
    "    \n",
    "    "
   ]
  },
  {
   "cell_type": "code",
   "execution_count": 201,
   "id": "75fa29b9-b52c-4002-bed5-fb491b806623",
   "metadata": {},
   "outputs": [
    {
     "data": {
      "text/plain": [
       "26.83"
      ]
     },
     "execution_count": 201,
     "metadata": {},
     "output_type": "execute_result"
    }
   ],
   "source": [
    "porcentaje_a(dna_content)\n",
    "    \n",
    "    "
   ]
  },
  {
   "cell_type": "markdown",
   "id": "ebffb1f2-d22e-439f-95e7-06c547ff1d7d",
   "metadata": {},
   "source": [
    "##### ¿Y que devuelva el número de decimales que yo quiero?"
   ]
  },
  {
   "cell_type": "code",
   "execution_count": 223,
   "id": "1ac51951",
   "metadata": {},
   "outputs": [
    {
     "name": "stdout",
     "output_type": "stream",
     "text": [
      "25.0\n"
     ]
    }
   ],
   "source": [
    "print(porcentaje_a(\"ATCGATCGATCGATCG\", 3))"
   ]
  },
  {
   "cell_type": "markdown",
   "id": "2c811d84",
   "metadata": {},
   "source": [
    "##### ¿Sabes poner un valor por defecto en un argumento?"
   ]
  },
  {
   "cell_type": "code",
   "execution_count": 205,
   "id": "60981086",
   "metadata": {},
   "outputs": [
    {
     "name": "stdout",
     "output_type": "stream",
     "text": [
      "25.0\n"
     ]
    }
   ],
   "source": [
    "print(porcentaje_a(\"ATCGATCGATCGATCG\"))"
   ]
  },
  {
   "cell_type": "markdown",
   "id": "ab2c106c",
   "metadata": {},
   "source": [
    "##### ¿Qué pasa si no ponemos un argumento? ¿Sabrías hacer una función encapsulada?"
   ]
  },
  {
   "cell_type": "code",
   "execution_count": 207,
   "id": "b155dc1e",
   "metadata": {},
   "outputs": [
    {
     "name": "stdout",
     "output_type": "stream",
     "text": [
      "25.0\n"
     ]
    }
   ],
   "source": [
    "print(porcentaje_a(\"ATCGATCGATCGATCG\"))"
   ]
  },
  {
   "cell_type": "markdown",
   "id": "83af4b0f",
   "metadata": {},
   "source": [
    "##### Testea tu función original con assert"
   ]
  },
  {
   "cell_type": "code",
   "execution_count": 221,
   "id": "2bf31b44",
   "metadata": {},
   "outputs": [
    {
     "ename": "AssertionError",
     "evalue": "",
     "output_type": "error",
     "traceback": [
      "\u001b[0;31m---------------------------------------------------------------------------\u001b[0m",
      "\u001b[0;31mAssertionError\u001b[0m                            Traceback (most recent call last)",
      "Cell \u001b[0;32mIn[221], line 2\u001b[0m\n\u001b[1;32m      1\u001b[0m \u001b[38;5;66;03m# Verificaciones de la función\u001b[39;00m\n\u001b[0;32m----> 2\u001b[0m \u001b[38;5;28;01massert\u001b[39;00m porcentaje_a(\u001b[38;5;124m\"\u001b[39m\u001b[38;5;124mATCGATCGATCGATCG\u001b[39m\u001b[38;5;124m\"\u001b[39m) \u001b[38;5;241m==\u001b[39m \u001b[38;5;241m26.8\u001b[39m  \u001b[38;5;66;03m# 4 'A' en 16\u001b[39;00m\n\u001b[1;32m      3\u001b[0m \u001b[38;5;28;01massert\u001b[39;00m porcentaje_a(\u001b[38;5;124m\"\u001b[39m\u001b[38;5;124matcgATCGatcg\u001b[39m\u001b[38;5;124m\"\u001b[39m) \u001b[38;5;241m==\u001b[39m \u001b[38;5;241m26.8\u001b[39m      \u001b[38;5;66;03m# 4 'A' en 16\u001b[39;00m\n\u001b[1;32m      4\u001b[0m \u001b[38;5;28;01massert\u001b[39;00m porcentaje_a(\u001b[38;5;124m\"\u001b[39m\u001b[38;5;124mTTTTTTTT\u001b[39m\u001b[38;5;124m\"\u001b[39m) \u001b[38;5;241m==\u001b[39m \u001b[38;5;241m0.0\u001b[39m            \u001b[38;5;66;03m# Sin 'A'\u001b[39;00m\n",
      "\u001b[0;31mAssertionError\u001b[0m: "
     ]
    }
   ],
   "source": [
    "# Verificaciones de la función\n",
    "assert porcentaje_a(\"ATCGATCGATCGATCG\") == 26.8  # 4 'A' en 16\n",
    "assert porcentaje_a(\"atcgATCGatcg\") == 26.8      # 4 'A' en 16\n",
    "assert porcentaje_a(\"TTTTTTTT\") == 0.0            # Sin 'A'\n",
    "assert porcentaje_a(\"\", 2) == 0.0                  # Secuencia vacía\n",
    "\n",
    "           \n",
    "              \n"
   ]
  },
  {
   "cell_type": "markdown",
   "id": "991abaa2",
   "metadata": {},
   "source": [
    "#### 5.- De la lista de accessions que se proporciona obtén lo siguiente:\n",
    "1. Los que tengan el número 5\n",
    "2. Los que tengan la letra 'd' o la 'e'\n",
    "3. Los que tengan las letras 'd' y 'e' en ese orden\n",
    "4. Los que tengan las letras 'd' y 'e' en ese orden con una letra cualquiera en medio\n",
    "5. Los que tengan ambas letras 'd' y 'e' en cualquier orden\n",
    "6. Los que empiezan por 'x' o por 'y'\n",
    "7. Los que empiezan por 'x' o 'y' y terminan por 'e'\n",
    "8. Los que tienen tres o más dígitos seguidos\n",
    "9. Los que terminan con 'd' seguidos de 'a' o 'r' o 'p'"
   ]
  },
  {
   "cell_type": "code",
   "execution_count": 91,
   "id": "6388ac75",
   "metadata": {},
   "outputs": [],
   "source": [
    "import re"
   ]
  },
  {
   "cell_type": "code",
   "execution_count": 93,
   "id": "d00d3ce7",
   "metadata": {},
   "outputs": [],
   "source": [
    "accs = ['xkn59438', 'yhdck2', 'eihd39d9', 'chdsye847', 'hedle3455', 'xjhd53e', '45da', 'de37dp']"
   ]
  },
  {
   "cell_type": "code",
   "execution_count": 167,
   "id": "ce1033e4-47bd-46fb-93de-c87129467eb8",
   "metadata": {},
   "outputs": [
    {
     "name": "stdout",
     "output_type": "stream",
     "text": [
      "Accesiones con el número 5: ['xkn59438', 'hedle3455', 'xjhd53e', '45da']\n",
      "Accesiones con 'd' o 'e': ['yhdck2', 'eihd39d9', 'chdsye847', 'hedle3455', 'xjhd53e', '45da', 'de37dp']\n",
      "Accesiones con 'd' y 'e' en orden: ['chdsye847', 'xjhd53e', 'de37dp']\n",
      "Accesiones con 'd' y una letra en medio de 'e': ['hedle3455']\n",
      "Accesiones con 'd' y 'e' en cualquier orden: ['eihd39d9', 'chdsye847', 'hedle3455', 'xjhd53e', 'de37dp']\n",
      "Accesiones que empiezan por 'x' o 'y': ['xkn59438', 'yhdck2', 'xjhd53e']\n",
      "Accesiones que empiezan por 'x' o 'y' y terminan por 'e': ['xjhd53e']\n",
      "Accesiones con tres o más dígitos seguidos: ['xkn59438', 'chdsye847', 'hedle3455']\n",
      "Accesiones que terminan con 'd' seguido de 'a', 'r' o 'p': ['45da', 'de37dp']\n"
     ]
    }
   ],
   "source": [
    "import re\n",
    "\n",
    "# Lista \n",
    "accs = ['xkn59438', 'yhdck2', 'eihd39d9', 'chdsye847', 'hedle3455', 'xjhd53e', '45da', 'de37dp']\n",
    "\n",
    "# 1. Número 5\n",
    "accs_con_5 = [acc for acc in accs if '5' in acc]\n",
    "print(\"Accesiones con el número 5:\", accs_con_5)\n",
    "\n",
    "# 2. Letra 'd' o la 'e'\n",
    "accs_con_d_o_e = [acc for acc in accs if 'd' in acc or 'e' in acc]\n",
    "print(\"Accesiones con 'd' o 'e':\", accs_con_d_o_e)\n",
    "\n",
    "# 3. Letras 'd' y 'e' en ese orden\n",
    "accs_con_d_y_e = [acc for acc in accs if 'd' in acc and 'e' in acc and acc.index('d') < acc.index('e')]\n",
    "print(\"Accesiones con 'd' y 'e' en orden:\", accs_con_d_y_e)\n",
    "\n",
    "# 4. Letras 'd' y 'e' en ese orden con una letra cualquiera en medio\n",
    "accs_con_d_letra_e = [acc for acc in accs if re.search(r'd.e', acc)]\n",
    "print(\"Accesiones con 'd' y una letra en medio de 'e':\", accs_con_d_letra_e)\n",
    "\n",
    "# 5. Ambas letras 'd' y 'e' en cualquier orden\n",
    "accs_con_d_y_e_cualquier_orden = [acc for acc in accs if 'd' in acc and 'e' in acc]\n",
    "print(\"Accesiones con 'd' y 'e' en cualquier orden:\", accs_con_d_y_e_cualquier_orden)\n",
    "\n",
    "# 6. Empiezan por 'x' o por 'y'\n",
    "accs_empiezan_x_o_y = [acc for acc in accs if acc.startswith(('x', 'y'))]\n",
    "print(\"Accesiones que empiezan por 'x' o 'y':\", accs_empiezan_x_o_y)\n",
    "\n",
    "# 7. Empiezan por 'x' o 'y' y terminan por 'e'\n",
    "accs_empiezan_x_o_y_y_terminan_e = [acc for acc in accs if acc.startswith(('x', 'y')) and acc.endswith('e')]\n",
    "print(\"Accesiones que empiezan por 'x' o 'y' y terminan por 'e':\", accs_empiezan_x_o_y_y_terminan_e)\n",
    "\n",
    "# 8. Tienen tres o más dígitos seguidos\n",
    "accs_con_tres_digitos_seguidos = [acc for acc in accs if re.search(r'\\d{3,}', acc)]\n",
    "print(\"Accesiones con tres o más dígitos seguidos:\", accs_con_tres_digitos_seguidos)\n",
    "\n",
    "# 9. Terminan con 'd' seguidos de 'a' o 'r' o 'p'\n",
    "accs_terminan_con_d_y_a_r_o_p = [acc for acc in accs if re.search(r'd[arp]$', acc)]\n",
    "print(\"Accesiones que terminan con 'd' seguido de 'a', 'r' o 'p':\", accs_terminan_con_d_y_a_r_o_p)\n"
   ]
  }
 ],
 "metadata": {
  "kernelspec": {
   "display_name": "Python 3 (ipykernel)",
   "language": "python",
   "name": "python3"
  },
  "language_info": {
   "codemirror_mode": {
    "name": "ipython",
    "version": 3
   },
   "file_extension": ".py",
   "mimetype": "text/x-python",
   "name": "python",
   "nbconvert_exporter": "python",
   "pygments_lexer": "ipython3",
   "version": "3.12.4"
  }
 },
 "nbformat": 4,
 "nbformat_minor": 5
}
