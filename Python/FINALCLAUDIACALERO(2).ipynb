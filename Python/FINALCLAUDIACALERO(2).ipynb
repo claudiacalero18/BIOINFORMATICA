{
 "cells": [
  {
   "cell_type": "markdown",
   "id": "eaebb484",
   "metadata": {},
   "source": [
    "# TRABAJO DE PYTHON\n",
    "\n",
    "### Este trabajo cuenta el 30% de la nota. \n",
    "\n",
    "### Resuelve los siguientes ejercicios en Python\n",
    "\n",
    "#### Utiliza tantas celdas de código como necesites"
   ]
  },
  {
   "cell_type": "markdown",
   "id": "98d4d480",
   "metadata": {},
   "source": [
    "#### 1.- Carga el archivo *\"archivo.txt\"* en este Jupyter Notebook y guarda su contenido en una lista. (1 pto)"
   ]
  },
  {
   "cell_type": "code",
   "execution_count": 43,
   "id": "f6b21b23",
   "metadata": {},
   "outputs": [
    {
     "name": "stdout",
     "output_type": "stream",
     "text": [
      "['>CP043953.1 Acinetobacter baumannii strain K09-14 chromosome, complete genome\\n', 'ATGCTTTGGACAGACTGCTTAACTCGCTTGCGACAAGAGCTCTCTGATAACGTCTTTGCGATGTGGATTCGCCCTTTAGTAGCTGAAGAAGTAGAGGGGATACTACGTCTCTATGCTCCTAATCCTTATTGGACGCGTTATATTCAAGAGAATCATTTAGAGTTAATTTCTATATTGGCTGAACAATTGTCAGAAGGGCGGGTGCGTCAGGTTGAAATCTTGGTAGATTCTCGTCCTGGTAGTATTTTGTCTTCTAGTGAACAGCCTGCAACAACTACAGCAGCTTTACAAACTGCCCCTATACCTCAACCTGCTAAGGTTAAAAGAGAACCGGAACCTGTTGCTAATACTGCAGTTAGTTCTAAGAGTTCAAAAAAGAAACTATTAAATCCACAATTTACTTTTTCACTATTTGTTGAAGGCCGTTCTAACCAAATGGCAGCAGAAACCTGTAGAAAAGTATTAACACAGTTAGGTGCTTCTCAACATAACCCTTTGTTTTTATATGGTCCGACAGGTCTAGGTAAGACTCACTTAATGCAAGCAGTTGGTAATGCCCTACTGCAAGCGAAGCCGAATGCAAGAGTCATGTATATGACTTCAGAAAGTTTTGTACAAGATTTTGTGAGCTCATTACAAAAAGGAAAGGTAGAAGAGTTTAAGAAAAATTGCCGTTCTTTAGACTTGTTATTAGTAGATGATATTCATCTTTTGGCAGGAAAAGAAGCAAGTCTCGTTGAATTCTTCTATACATTTAATGCCTTACTTGATGAATCTAAACAAATTATTTTAACGTCTGATCGATATCCTAAAGAATTAACAGAACTTGATCCTCGATTGGTTTCTCGTTTTTCCTGGGGGCTATCAGTAGGTGTTGAACCACCTGATATTGAAACTCGAATCGAAATTCTGCTTAAAAAAGCTGAAAATAGTGGCGTTGATTTACCTAGAAACTGTGCGTTGTTTATTGCCCAACAAGTCGTAGCGAACGTACGTGAACTTGAGGGCGCACTGAATAAAGTTGTCGCAATTTCACGTTTTAAAGGTGCTCCAATTGACCTGGATGTCGTACGGGAATCTTTAAAAGATGTTTTAGCGATCCGTGCTCGTACAATTAGTGTAGAAAATATCCAGCGTGTAGTGAGTGAATATTTCCGAATTCCATTAAAAGAGCTGGTAGGTCCAAAGCGTACCCGAATTTATGCTCGACCACGTCAGTTGGCGATGGGGCTTGCCCGTGAATTAACGGGGGATAGTTTTCCTGAAATTGGAATGGCTTTTGGTGGGCGTGATCACAGTACAGTGATGCATGCTTGTGAAAAAGTCGTC']\n"
     ]
    }
   ],
   "source": [
    "# Abrimos el archivo\n",
    "mi_archivo=open('archivo.txt')\n",
    "# Guardamos su contenido en una lista\n",
    "lineas= mi_archivo.readlines()\n",
    "# Mostramos el contenido de la lista\n",
    "print (lineas)\n",
    "\n"
   ]
  },
  {
   "cell_type": "markdown",
   "id": "400fa3f1",
   "metadata": {},
   "source": [
    "#### 2.- Muestre el encabezado y la secuencia y guarde cada uno en variables separadas. Elimine el elemento \"\\n\" del encabezado con replace(). ¿Cual es la longitud de la secuencia?. (1 pto)"
   ]
  },
  {
   "cell_type": "code",
   "execution_count": 45,
   "id": "154b42b2",
   "metadata": {},
   "outputs": [
    {
     "name": "stdout",
     "output_type": "stream",
     "text": [
      "Encabezado: >CP043953.1 Acinetobacter baumannii strain K09-14 chromosome, complete genome\n",
      "Secuencia: ATGCTTTGGACAGACTGCTTAACTCGCTTGCGACAAGAGCTCTCTGATAACGTCTTTGCGATGTGGATTCGCCCTTTAGTAGCTGAAGAAGTAGAGGGGATACTACGTCTCTATGCTCCTAATCCTTATTGGACGCGTTATATTCAAGAGAATCATTTAGAGTTAATTTCTATATTGGCTGAACAATTGTCAGAAGGGCGGGTGCGTCAGGTTGAAATCTTGGTAGATTCTCGTCCTGGTAGTATTTTGTCTTCTAGTGAACAGCCTGCAACAACTACAGCAGCTTTACAAACTGCCCCTATACCTCAACCTGCTAAGGTTAAAAGAGAACCGGAACCTGTTGCTAATACTGCAGTTAGTTCTAAGAGTTCAAAAAAGAAACTATTAAATCCACAATTTACTTTTTCACTATTTGTTGAAGGCCGTTCTAACCAAATGGCAGCAGAAACCTGTAGAAAAGTATTAACACAGTTAGGTGCTTCTCAACATAACCCTTTGTTTTTATATGGTCCGACAGGTCTAGGTAAGACTCACTTAATGCAAGCAGTTGGTAATGCCCTACTGCAAGCGAAGCCGAATGCAAGAGTCATGTATATGACTTCAGAAAGTTTTGTACAAGATTTTGTGAGCTCATTACAAAAAGGAAAGGTAGAAGAGTTTAAGAAAAATTGCCGTTCTTTAGACTTGTTATTAGTAGATGATATTCATCTTTTGGCAGGAAAAGAAGCAAGTCTCGTTGAATTCTTCTATACATTTAATGCCTTACTTGATGAATCTAAACAAATTATTTTAACGTCTGATCGATATCCTAAAGAATTAACAGAACTTGATCCTCGATTGGTTTCTCGTTTTTCCTGGGGGCTATCAGTAGGTGTTGAACCACCTGATATTGAAACTCGAATCGAAATTCTGCTTAAAAAAGCTGAAAATAGTGGCGTTGATTTACCTAGAAACTGTGCGTTGTTTATTGCCCAACAAGTCGTAGCGAACGTACGTGAACTTGAGGGCGCACTGAATAAAGTTGTCGCAATTTCACGTTTTAAAGGTGCTCCAATTGACCTGGATGTCGTACGGGAATCTTTAAAAGATGTTTTAGCGATCCGTGCTCGTACAATTAGTGTAGAAAATATCCAGCGTGTAGTGAGTGAATATTTCCGAATTCCATTAAAAGAGCTGGTAGGTCCAAAGCGTACCCGAATTTATGCTCGACCACGTCAGTTGGCGATGGGGCTTGCCCGTGAATTAACGGGGGATAGTTTTCCTGAAATTGGAATGGCTTTTGGTGGGCGTGATCACAGTACAGTGATGCATGCTTGTGAAAAAGTCGTC\n",
      "Longitud de la secuencia: 1329\n"
     ]
    }
   ],
   "source": [
    "# Como la primera linea es el encabezado:\n",
    "encabezado = lineas [0].replace(\"\\n\",\"\")\n",
    "# Creamos la secuencia nueva\n",
    "secuencia = \"\".join(linea.strip() for linea in lineas[1:])\n",
    "# Cuál es la longitud de la secuencia?\n",
    "longitud_secuencia=len(secuencia)\n",
    "longitud_secuencia\n",
    "# Mostramos los resultados\n",
    "print(\"Encabezado:\", encabezado)\n",
    "print(\"Secuencia:\", secuencia)\n",
    "print(\"Longitud de la secuencia:\",longitud_secuencia)\n",
    "\n"
   ]
  },
  {
   "cell_type": "markdown",
   "id": "36b8c00d",
   "metadata": {},
   "source": [
    "#### 3.- Para el encabezado, extrae empleando expresiones regulares el identificador. (1pto)"
   ]
  },
  {
   "cell_type": "code",
   "execution_count": 47,
   "id": "d845bb81",
   "metadata": {},
   "outputs": [
    {
     "name": "stdout",
     "output_type": "stream",
     "text": [
      "Identificador: CP043953.1\n"
     ]
    }
   ],
   "source": [
    "# Utilizamos la expresión regular para buscar \">\" ya que es el primer caracter del encabezado\n",
    "import re\n",
    "identificador = re.search(r\">(\\S+)\", encabezado).group(1)\n",
    "# Mostramos el identificador\n",
    "print(\"Identificador:\", identificador)"
   ]
  },
  {
   "cell_type": "markdown",
   "id": "f38fdda0",
   "metadata": {},
   "source": [
    "#### 4.- Para la secuencia, haz un algoritmo que vaya sumando el numero de adeninas (A) y timinas (T) segun vaya iterando por la secuencia. El numero total de adeninas y timinas deberia guardarse en una misma variable. (1 pto)"
   ]
  },
  {
   "cell_type": "code",
   "execution_count": 49,
   "id": "2914b1f2",
   "metadata": {},
   "outputs": [
    {
     "name": "stdout",
     "output_type": "stream",
     "text": [
      "Número total de aneninas y timinas: 793\n"
     ]
    }
   ],
   "source": [
    "# Creamos la variable; contador en 0 que va a almacenar el número total\n",
    "conteo_AT=0\n",
    "# Creamos el loop\n",
    "for nucleotido in secuencia:\n",
    "    if nucleotido=='A' or nucleotido == 'T':\n",
    "        conteo_AT += 1\n",
    "# Resultado \n",
    "print(\"Número total de aneninas y timinas:\", conteo_AT)"
   ]
  },
  {
   "cell_type": "markdown",
   "id": "98096e73",
   "metadata": {},
   "source": [
    "#### 5.- Escribe una funcion que calcule el porcentaje de un nucleotido de una secuencia y que examine la entrada para comprobar que se ha introducido un nucleotido de los cuatro tipos que hay (A, T, G o C). Devuelve el resultado con un decimal. Por ultimo comprueba que tu codigo funciona con las siguientes *assertions*. (1 pto)"
   ]
  },
  {
   "cell_type": "code",
   "execution_count": 51,
   "id": "df4b86c4",
   "metadata": {},
   "outputs": [
    {
     "name": "stdout",
     "output_type": "stream",
     "text": [
      "29.2\n",
      "30.5\n",
      "22.0\n",
      "18.3\n"
     ]
    }
   ],
   "source": [
    "def calculo_porcentaje(nucleotido, secuencia):\n",
    "    # Validar que el nucleótido es válido\n",
    "    if nucleotido not in [\"A\", \"T\", \"G\", \"C\"]:\n",
    "        raise ValueError(\"Nucleótido inválido. Debe ser 'A', 'T', 'G' o 'C'.\")\n",
    "    \n",
    "    # Contar las apariciones del nucleótido\n",
    "    conteo = secuencia.count(nucleotido)\n",
    "    \n",
    "    # Calcular el porcentaje\n",
    "    porcentaje = (conteo / len(secuencia)) * 100\n",
    "    return round(porcentaje, 1)\n",
    "\n",
    "print(calculo_porcentaje(\"A\", secuencia)) \n",
    "print(calculo_porcentaje(\"T\", secuencia)) \n",
    "print(calculo_porcentaje(\"G\", secuencia)) \n",
    "print(calculo_porcentaje(\"C\", secuencia)) \n",
    "\n",
    "    \n",
    "\n",
    "\n"
   ]
  },
  {
   "cell_type": "code",
   "execution_count": 53,
   "id": "ba6c69f0-4a31-4855-96e6-94ff0cbd2638",
   "metadata": {},
   "outputs": [
    {
     "name": "stdout",
     "output_type": "stream",
     "text": [
      "Todas las pruebas pasaron correctamente.\n"
     ]
    }
   ],
   "source": [
    "assert calculo_porcentaje(\"A\", secuencia) == 29.2\n",
    "assert calculo_porcentaje(\"T\", secuencia) == 30.5\n",
    "assert calculo_porcentaje(\"G\", secuencia) == 22.0\n",
    "assert calculo_porcentaje(\"C\", secuencia) == 18.3\n",
    "\n",
    "print(\"Todas las pruebas pasaron correctamente.\")\n",
    "\n",
    "\n"
   ]
  },
  {
   "cell_type": "markdown",
   "id": "a28888dd",
   "metadata": {},
   "source": [
    "#### 6.- Devuelve la secuencia de ARN que surgiría a partir de la siguiente secuencia. Recuerda que la secuencia de ARN resultante tiene que ser complementaria a la de ADN y además, hay que cambiar un nucleótido. (1 pto)"
   ]
  },
  {
   "cell_type": "code",
   "execution_count": 55,
   "id": "b27feabb",
   "metadata": {},
   "outputs": [
    {
     "name": "stdout",
     "output_type": "stream",
     "text": [
      "Secuencia ARN resultante: UGCGAAACCUGUCUGACGAAUUGAGCGAACGCUGUUCUCGAGAGACUAUUGCAGAAACGCUACACCUAAGCGGGAAAUCAUCGACUUCUUCAUCUCCCCUAUGAUGCAGAGAUACGAGGAUUAGGAAUAACCUGCGCAAUAUAAGUUCUCUUAGUAAAUCUCAAUUAAAGAUAUAACCGACUUGUUAACAGUCUUCCCGCCCACGCAGUCCAACUUUAGAACCAUCUAAGAGCAGGACCAUCAUAAAACAGAAGAUCACUUGUCGGACGUUGUUGAUGUCGUCGAAAUGUUUGACGGGGAUAUGGAGUUGGACGAUUCCAAUUUUCUCUUGGCCUUGGACAACGAUUAUGACGUCAAUCAAGAUUCUCAAGUUUUUUCUUUGAUAAUUUAGGUGUUAAAUGAAAAAGUGAUAAACAACUUCCGGCAAGAUUGGUUUACCGUCGUCUUUGGACAUCUUUUCAUAAUUGUGUCAAUCCACGAAGAGUUGUAUUGGGAAACAAAAAUAUACCAGGCUGUCCAGAUCCAUUCUGAGUGAAUUACGUUCGUCAACCAUUACGGGAUGACGUUCGCUUCGGCUUACGUUCUCAGUACAUAUACUGAAGUCUUUCAAAACAUGUUCUAAAACACUCGAGUAAUGUUUUUCCUUUCCAUCUUCUCAAAUUCUUUUUAACGGCAAGAAAUCUGAACAAUAAUCAUCUACUAUAAGUAGAAAACCGUCCUUUUCUUCGUUCAGAGCAACUUAAGAAGAUAUGUAAAUUACGGAAUGAACUACUUAGAUUUGUUUAAUAAAAUUGCAGACUAGCUAUAGGAUUUCUUAAUUGUCUUGAACUAGGAGCUAACCAAAGAGCAAAAAGGACCCCCGAUAGUCAUCCACAACUUGGUGGACUAUAACUUUGAGCUUAGCUUUAAGACGAAUUUUUUCGACUUUUAUCACCGCAACUAAAUGGAUCUUUGACACGCAACAAAUAACGGGUUGUUCAGCAUCGCUUGCAUGCACUUGAACUCCCGCGUGACUUAUUUCAACAGCGUUAAAGUGCAAAAUUUCCACGAGGUUAACUGGACCUACAGCAUGCCCUUAGAAAUUUUCUACAAAAUCGCUAGGCACGAGCAUGUUAAUCACAUCUUUUAUAGGUCGCACAUCACUCACUUAUAAAGGCUUAAGGUAAUUUUCUCGACCAUCCAGGUUUCGCAUGGGCUUAAAUACGAGCUGGUGCAGUCAACCGCUACCCCGAACGGGCACUUAAUUGCCCCCUAUCAAAAGGACUUUAACCUUACCGAAAACCACCCGCACUAGUGUCAUGUCACUACGUACGAACACUUUUUCAGCAG\n"
     ]
    }
   ],
   "source": [
    "def transcribir_adn_a_arn(secuencia_adn):\n",
    "    secuencia_arn= \"\"\n",
    "    for nucleotido in secuencia_adn:\n",
    "        if nucleotido == \"A\":\n",
    "            secuencia_arn += \"U\"\n",
    "        elif nucleotido == \"T\":\n",
    "            secuencia_arn += \"A\"\n",
    "        elif nucleotido == \"C\":\n",
    "            secuencia_arn += \"G\"\n",
    "        elif nucleotido == \"G\":\n",
    "            secuencia_arn += \"C\"\n",
    "        else:\n",
    "            raise ValueError (\"Secuencia de ADN no valida, contiene nucleotidos desconocidos.\")\n",
    "\n",
    "    secuencia_arn = secuencia_arn.replace(\"A\", \"G\", 1)\n",
    "    return secuencia_arn\n",
    "\n",
    "secuencia_arn = transcribir_adn_a_arn(secuencia)\n",
    "print(\"Secuencia ARN resultante:\", secuencia_arn)\n",
    "\n",
    "\n",
    "\n"
   ]
  },
  {
   "cell_type": "markdown",
   "id": "9f94d5dd",
   "metadata": {},
   "source": [
    "#### 7.- Realiza una función que realice una digestión con las siguientes enzimas de restricción en nuestra secuencia. La función tiene que devolver la siguiente información: (2 pto)\n",
    "1. Enzimas que tienen sitios de corte en la secuencia y posición (o posiciones de corte)\n",
    "2. Enzimas que no tienen sitios de corte (si las hay)\n",
    "3. Resultado de la digestión: los fragmentos resultantes de nuestra secuencia\n",
    "4. Indicar número y tamaño de cada fragmento"
   ]
  },
  {
   "cell_type": "code",
   "execution_count": 57,
   "id": "1cab833c",
   "metadata": {},
   "outputs": [],
   "source": [
    "enzR = {\n",
    "    'HindIII' : 'A*AGCTT',\n",
    "    'BamHI' : 'G*GATCC',\n",
    "    'AluI' : 'AG*CT',\n",
    "    'Sau3AI' : '*GATC',\n",
    "    'EcoRI' : 'G*AATTC'\n",
    "}\n",
    "\n",
    "\n",
    "\n"
   ]
  },
  {
   "cell_type": "code",
   "execution_count": 73,
   "id": "2b4f8fe3-c9b4-4ef3-97e2-c81199d3df58",
   "metadata": {},
   "outputs": [
    {
     "name": "stdout",
     "output_type": "stream",
     "text": [
      "Enzimas CON sitios de corte y CON posiciones:\n",
      "AluI: [39, 82, 283, 629, 922, 1173]\n",
      "Sau3AI: [798, 828, 1097, 1290]\n",
      "EcoRI: [739, 1157]\n",
      "\n",
      "Enzimas SIN sitios de corte:\n",
      "['HindIII', 'BamHI']\n",
      "\n",
      "Fragmentos:\n",
      "Fragmento: ATGCTTTGGACAGACTGCTTAACTCGCTTGCGACAAGAG, Tamaño: 39\n",
      "Fragmento: CTCTCTGATAACGTCTTTGCGATGTGGATTCGCCCTTTAGTAG, Tamaño: 43\n",
      "Fragmento: CTGAAGAAGTAGAGGGGATACTACGTCTCTATGCTCCTAATCCTTATTGGACGCGTTATATTCAAGAGAATCATTTAGAGTTAATTTCTATATTGGCTGAACAATTGTCAGAAGGGCGGGTGCGTCAGGTTGAAATCTTGGTAGATTCTCGTCCTGGTAGTATTTTGTCTTCTAGTGAACAGCCTGCAACAACTACAGCAG, Tamaño: 201\n",
      "Fragmento: CTTTACAAACTGCCCCTATACCTCAACCTGCTAAGGTTAAAAGAGAACCGGAACCTGTTGCTAATACTGCAGTTAGTTCTAAGAGTTCAAAAAAGAAACTATTAAATCCACAATTTACTTTTTCACTATTTGTTGAAGGCCGTTCTAACCAAATGGCAGCAGAAACCTGTAGAAAAGTATTAACACAGTTAGGTGCTTCTCAACATAACCCTTTGTTTTTATATGGTCCGACAGGTCTAGGTAAGACTCACTTAATGCAAGCAGTTGGTAATGCCCTACTGCAAGCGAAGCCGAATGCAAGAGTCATGTATATGACTTCAGAAAGTTTTGTACAAGATTTTGTGAG, Tamaño: 346\n",
      "Fragmento: CTCATTACAAAAAGGAAAGGTAGAAGAGTTTAAGAAAAATTGCCGTTCTTTAGACTTGTTATTAGTAGATGATATTCATCTTTTGGCAGGAAAAGAAGCAAGTCTCGTTG, Tamaño: 110\n",
      "Fragmento: AATTCTTCTATACATTTAATGCCTTACTTGATGAATCTAAACAAATTATTTTAACGTCT, Tamaño: 59\n",
      "Fragmento: GATCGATATCCTAAAGAATTAACAGAACTT, Tamaño: 30\n",
      "Fragmento: GATCCTCGATTGGTTTCTCGTTTTTCCTGGGGGCTATCAGTAGGTGTTGAACCACCTGATATTGAAACTCGAATCGAAATTCTGCTTAAAAAAG, Tamaño: 94\n",
      "Fragmento: CTGAAAATAGTGGCGTTGATTTACCTAGAAACTGTGCGTTGTTTATTGCCCAACAAGTCGTAGCGAACGTACGTGAACTTGAGGGCGCACTGAATAAAGTTGTCGCAATTTCACGTTTTAAAGGTGCTCCAATTGACCTGGATGTCGTACGGGAATCTTTAAAAGATGTTTTAGC, Tamaño: 175\n",
      "Fragmento: GATCCGTGCTCGTACAATTAGTGTAGAAAATATCCAGCGTGTAGTGAGTGAATATTTCCG, Tamaño: 60\n",
      "Fragmento: AATTCCATTAAAAGAG, Tamaño: 16\n",
      "Fragmento: CTGGTAGGTCCAAAGCGTACCCGAATTTATGCTCGACCACGTCAGTTGGCGATGGGGCTTGCCCGTGAATTAACGGGGGATAGTTTTCCTGAAATTGGAATGGCTTTTGGTGGGCGT, Tamaño: 117\n",
      "Fragmento: GATCACAGTACAGTGATGCATGCTTGTGAAAAAGTCGTC, Tamaño: 39\n"
     ]
    }
   ],
   "source": [
    "import re \n",
    "def digestar_secuencia(secuencia, enzimas):\n",
    "    enzimas_con_corte = {}\n",
    "    enzimas_sin_corte = []\n",
    "    posiciones_de_corte = []\n",
    "    \n",
    "    for enzima, secuencia_corte in enzimas.items():\n",
    "        posicion_corte = secuencia_corte.index('*')\n",
    "        secuencia_real = secuencia_corte.replace('*', '')\n",
    "        \n",
    "        matches = re.finditer(secuencia_real, secuencia)\n",
    "        cortes = [match.start() + posicion_corte for match in matches]\n",
    "        if cortes:\n",
    "            enzimas_con_corte[enzima] = cortes\n",
    "            posiciones_de_corte.extend(cortes)\n",
    "        else:\n",
    "            enzimas_sin_corte.append(enzima)\n",
    "    \n",
    "    if posiciones_de_corte:\n",
    "        posiciones_de_corte.sort() \n",
    "        fragmentos = []\n",
    "        inicio = 0\n",
    "        \n",
    "        for corte in posiciones_de_corte:\n",
    "            fragmentos.append(secuencia[inicio:corte])\n",
    "            inicio = corte\n",
    "        \n",
    "        fragmentos.append(secuencia[inicio:])\n",
    "    else:\n",
    "        fragmentos = [secuencia]\n",
    "    \n",
    "    tamaños_fragmentos = [len(fragmento) for fragmento in fragmentos]\n",
    "\n",
    "    return {\n",
    "        \"enzimas_con_corte\": enzimas_con_corte,\n",
    "        \"enzimas_sin_corte\": enzimas_sin_corte,\n",
    "        \"fragmentos_resultantes\": fragmentos,\n",
    "        \"tamaños_fragmentos\": tamaños_fragmentos\n",
    "    }\n",
    "\n",
    "resultado = digestar_secuencia(secuencia, enzR)\n",
    "print(\"Enzimas CON sitios de corte y CON posiciones:\")\n",
    "for enzima, posiciones in resultado[\"enzimas_con_corte\"].items():\n",
    "    print(f\"{enzima}: {posiciones}\")\n",
    "print(\"\\nEnzimas SIN sitios de corte:\")\n",
    "print(resultado[\"enzimas_sin_corte\"])\n",
    "print(\"\\nFragmentos:\")\n",
    "for fragmento, tamano in zip(resultado[\"fragmentos_resultantes\"], resultado[\"tamaños_fragmentos\"]):\n",
    "    print(f\"Fragmento: {fragmento}, Tamaño: {tamano}\")\n",
    "\n",
    "\n",
    "\n"
   ]
  },
  {
   "cell_type": "markdown",
   "id": "cae3c937",
   "metadata": {},
   "source": [
    "#### 8.- Realiza una función que mediante la introducción de una secuencia de ADN devuelva lo siguiente: (2pto)\n",
    "1. La secuencia traducida de proteína\n",
    "2. La longitud de la secuencia de ADN original y la longitud de la secuencia de proteínas final\n",
    "3. El porcentaje de aminoácidos aromáticos (en conjunto y por separado)\n"
   ]
  },
  {
   "cell_type": "code",
   "execution_count": 65,
   "id": "1c43d765",
   "metadata": {},
   "outputs": [
    {
     "name": "stdout",
     "output_type": "stream",
     "text": [
      "Secuencia traducida de proteína: CETCLTN*ANAVLERLLQKRYT*AGNHRLLHLPYDAEIRGLGITCAI*VLLVNLN*RYNRLVNSLPAHAVQL*NHLRAGPS*NRRSLVGRC*CRRNV*RGYGVGRFQFSLGLGQRL*RQSRFSSFFFDNLGVK*KSDKQLPARLVYRRLWTSFHNCVNPRRVVLGNKNIPGCPDPF*VNYVRQPLRDDVRFGLRSQYIY*SLSKHVLKHSSNVFPFHLLKFFLTARNLNNNHLL*VENRPFLRSEQLKKICKLRNELLRFV**NCRLAIGFLNCLELGANQRAKRTPDSHPQLGGL*L*A*L*DEFFRLLSPQLNGSLTRNK*RVVQHRLHALELPRDLFQQR*SAKFPRG*LDLQHALRNFLQNR*ARAC*SHLL*VAHHSLIKA*GNFLDHPGFAWA*IRAGAVNRYPERALNCPLSKGL*PYRKPPALVSCHYVRTLFQQ\n",
      "Longitud de la secuencia de ADN: 1329\n",
      "Longitud de la secuencia de proteínas: 443\n",
      "Porcentaje total de aminoácidos aromáticos: 8.35%\n",
      "Porcentaje de cada aminoácido aromático:\n",
      "F: 5.42%\n",
      "Y: 2.48%\n",
      "W: 0.45%\n"
     ]
    }
   ],
   "source": [
    "codigo_genetico = {\n",
    "    'UUU': 'F', 'UUC': 'F', 'UUA': 'L', 'UUG': 'L',\n",
    "    'UCU': 'S', 'UCC': 'S', 'UCA': 'S', 'UCG': 'S',\n",
    "    'UAU': 'Y', 'UAC': 'Y', 'UAA': '*', 'UAG': '*',\n",
    "    'UGU': 'C', 'UGC': 'C', 'UGA': '*', 'UGG': 'W',\n",
    "    'CUU': 'L', 'CUC': 'L', 'CUA': 'L', 'CUG': 'L',\n",
    "    'CCU': 'P', 'CCC': 'P', 'CCA': 'P', 'CCG': 'P',\n",
    "    'CAU': 'H', 'CAC': 'H', 'CAA': 'Q', 'CAG': 'Q',\n",
    "    'CGU': 'R', 'CGC': 'R', 'CGA': 'R', 'CGG': 'R',\n",
    "    'AUU': 'I', 'AUC': 'I', 'AUA': 'I', 'AUG': 'M',\n",
    "    'ACU': 'T', 'ACC': 'T', 'ACA': 'T', 'ACG': 'T',\n",
    "    'AAU': 'N', 'AAC': 'N', 'AAA': 'K', 'AAG': 'K',\n",
    "    'AGU': 'S', 'AGC': 'S', 'AGA': 'R', 'AGG': 'R',\n",
    "    'GUU': 'V', 'GUC': 'V', 'GUA': 'V', 'GUG': 'V',\n",
    "    'GCU': 'A', 'GCC': 'A', 'GCA': 'A', 'GCG': 'A',\n",
    "    'GAU': 'D', 'GAC': 'D', 'GAA': 'E', 'GAG': 'E',\n",
    "    'GGU': 'G', 'GGC': 'G', 'GGA': 'G', 'GGG': 'G'\n",
    "}\n",
    "\n",
    "def traducir_arn_a_proteina(secuencia_arn):\n",
    "    secuencia_proteina = []\n",
    "    for i in range(0, len(secuencia_arn) - 2, 3):\n",
    "        codon = secuencia_arn[i:i+3]\n",
    "        aminoacido = codigo_genetico.get(codon, '-')\n",
    "        secuencia_proteina.append(aminoacido)\n",
    "    secuencia_proteina = ''.join(secuencia_proteina)\n",
    "    longitud_adn = len(secuencia)\n",
    "    longitud_proteina = len(secuencia_proteina)\n",
    "    aminoacidos_aromaticos = {'F': 0, 'Y': 0, 'W': 0} \n",
    "    total_aromaticos = 0\n",
    "    for aa in secuencia_proteina:\n",
    "        if aa in aminoacidos_aromaticos:\n",
    "            aminoacidos_aromaticos[aa] += 1\n",
    "            total_aromaticos += 1\n",
    "    porcentaje_aromaticos = {\n",
    "        aa: (cantidad / longitud_proteina * 100) if longitud_proteina > 0 else 0\n",
    "        for aa, cantidad in aminoacidos_aromaticos.items()\n",
    "    }\n",
    "    porcentaje_total_aromaticos = (total_aromaticos / longitud_proteina * 100) if longitud_proteina > 0 else 0\n",
    "    return {\n",
    "        \"secuencia_proteina\": secuencia_proteina,\n",
    "        \"longitud_adn\": longitud_adn,\n",
    "        \"longitud_proteina\": longitud_proteina,\n",
    "        \"porcentaje_aromaticos\": porcentaje_aromaticos,\n",
    "        \"porcentaje_total_aromaticos\": porcentaje_total_aromaticos\n",
    "    }\n",
    "resultado = traducir_arn_a_proteina(secuencia_arn)\n",
    "\n",
    "print(\"Secuencia traducida de proteína:\", resultado[\"secuencia_proteina\"])\n",
    "print(\"Longitud de la secuencia de ADN:\", resultado[\"longitud_adn\"])\n",
    "print(\"Longitud de la secuencia de proteínas:\", resultado[\"longitud_proteina\"])\n",
    "print(\"Porcentaje total de aminoácidos aromáticos:\", f\"{resultado['porcentaje_total_aromaticos']:.2f}%\")\n",
    "print(\"Porcentaje de cada aminoácido aromático:\")\n",
    "for aa, porcentaje in resultado[\"porcentaje_aromaticos\"].items():\n",
    "    print(f\"{aa}: {porcentaje:.2f}%\")"
   ]
  }
 ],
 "metadata": {
  "kernelspec": {
   "display_name": "Python 3 (ipykernel)",
   "language": "python",
   "name": "python3"
  },
  "language_info": {
   "codemirror_mode": {
    "name": "ipython",
    "version": 3
   },
   "file_extension": ".py",
   "mimetype": "text/x-python",
   "name": "python",
   "nbconvert_exporter": "python",
   "pygments_lexer": "ipython3",
   "version": "3.12.4"
  }
 },
 "nbformat": 4,
 "nbformat_minor": 5
}
